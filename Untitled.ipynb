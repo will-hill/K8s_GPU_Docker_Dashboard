{
 "cells": [
  {
   "cell_type": "markdown",
   "metadata": {},
   "source": [
    "# Kubernetes Cluster Setup"
   ]
  },
  {
   "cell_type": "markdown",
   "metadata": {},
   "source": [
    "https://www.youtube.com/watch?v=UWg3ORRRF60"
   ]
  },
  {
   "cell_type": "markdown",
   "metadata": {},
   "source": [
    "### Init All Nodes"
   ]
  },
  {
   "cell_type": "markdown",
   "metadata": {},
   "source": [
    "prereqs:\n",
    "* update all nodes: sudo apt-get -y update\n",
    "* ssh server: sudo apt-get install -y openssh-server\n",
    "* passwordless ssh: ssh-keygen ; cat ~.ssh/id_rsa.pub | ssh ${USER}@${OTHER_NODE} 'cat >> ~/.ssh/authorized_keys'\n",
    "* passwordless sudo: \"%sudo ALL = (ALL) NOPASSWD:ALL\" in /etc/sudoers"
   ]
  },
  {
   "cell_type": "code",
   "execution_count": 14,
   "metadata": {},
   "outputs": [],
   "source": [
    "master = 'ai'\n",
    "slave = 'thinky'\n",
    "nodes = [master, slave]"
   ]
  },
  {
   "cell_type": "markdown",
   "metadata": {},
   "source": [
    "1. Kill Swap Space"
   ]
  },
  {
   "cell_type": "code",
   "execution_count": 25,
   "metadata": {},
   "outputs": [
    {
     "name": "stdout",
     "output_type": "stream",
     "text": [
      "\n",
      "hostname ai\n",
      "SwapCached:            0 kB\n",
      "SwapTotal:             0 kB\n",
      "SwapFree:              0 kB\n",
      "SwapCached:            0 kB\n",
      "SwapTotal:             0 kB\n",
      "SwapFree:              0 kB\n",
      "# swap was on /dev/sda1 during installation\n",
      "# UUID=bd747e97-d47a-455a-8c7a-f32ac8cdc577 none            swap    sw              0       0\n",
      "\n",
      "hostname thinky\n",
      "SwapCached:            0 kB\n",
      "SwapTotal:             0 kB\n",
      "SwapFree:              0 kB\n",
      "SwapCached:            0 kB\n",
      "SwapTotal:             0 kB\n",
      "SwapFree:              0 kB\n",
      "#/swapfile                                 none            swap    sw              0       0\n"
     ]
    }
   ],
   "source": [
    "for n in nodes:\n",
    "    print('\\nhostname',n)\n",
    "    !ssh {n} cat /proc/meminfo | grep Swap\n",
    "    !ssh {n} sudo swapoff -a\n",
    "    !ssh {n} sudo sed -i 's%/swap%#/swap%g' /etc/fstab\n",
    "    !ssh {n} cat /proc/meminfo | grep Swap\n",
    "    !ssh {n} grep -i swap /etc/fstab"
   ]
  },
  {
   "cell_type": "markdown",
   "metadata": {},
   "source": [
    "### Network\n",
    "* Set hostnames in /etc/hosts files\n",
    "* reserve IP addresses on the hosts in your router"
   ]
  },
  {
   "cell_type": "markdown",
   "metadata": {},
   "source": [
    "### NVIDIA + Docker + Kubeadm, Kubelet, Kubectl\n",
    "https://github.com/NVIDIA/nvidia-docker  \n",
    "https://nvidia.github.io/nvidia-container-runtime/  \n",
    "https://kubernetes.io/docs/setup/production-environment/container-runtimes/  \n",
    "https://kubernetes.io/docs/setup/production-environment/tools/kubeadm/install-kubeadm/  \n",
    "https://kubernetes.io/docs/setup/production-environment/tools/kubeadm/create-cluster-kubeadm/"
   ]
  },
  {
   "cell_type": "markdown",
   "metadata": {},
   "source": [
    "### Master\n",
    "1. Init Cluster\n",
    "    * sudo kubeadm init --pod-network-cidr=192.168.0.0/16 --apiserver-advertise-address=192.168.86.70\n",
    "2. Pod Network\n",
    "3. Dashboard"
   ]
  },
  {
   "cell_type": "markdown",
   "metadata": {},
   "source": [
    "### Slave\n",
    "1. Add Node"
   ]
  },
  {
   "cell_type": "code",
   "execution_count": null,
   "metadata": {},
   "outputs": [],
   "source": [
    "!kubeadm join 192.168.86.70:6443 --token ic1hov.epaeo3dzhdzz4qz3 \\\n",
    "    --discovery-token-ca-cert-hash sha256:ec6bff11092c7064d23216a00814adfc2023ce237641f9a6c728168db44d783e "
   ]
  },
  {
   "cell_type": "markdown",
   "metadata": {},
   "source": [
    "### kubeadm"
   ]
  },
  {
   "cell_type": "code",
   "execution_count": null,
   "metadata": {},
   "outputs": [],
   "source": []
  }
 ],
 "metadata": {
  "kernelspec": {
   "display_name": "Python 3",
   "language": "python",
   "name": "python3"
  },
  "language_info": {
   "codemirror_mode": {
    "name": "ipython",
    "version": 3
   },
   "file_extension": ".py",
   "mimetype": "text/x-python",
   "name": "python",
   "nbconvert_exporter": "python",
   "pygments_lexer": "ipython3",
   "version": "3.7.5"
  }
 },
 "nbformat": 4,
 "nbformat_minor": 4
}
